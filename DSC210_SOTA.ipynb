{
  "nbformat": 4,
  "nbformat_minor": 0,
  "metadata": {
    "colab": {
      "provenance": []
    },
    "kernelspec": {
      "name": "python3",
      "display_name": "Python 3"
    },
    "language_info": {
      "name": "python"
    }
  },
  "cells": [
    {
      "cell_type": "code",
      "execution_count": null,
      "metadata": {
        "id": "A_wUBWol7LLN"
      },
      "outputs": [],
      "source": [
        "#The method is based on this paper:\n",
        "#Park, S.H., Kim, K. Collaborative filtering recommendation system based on improved Jaccard similarity. J Ambient Intell Human Comput 14, 11319–11336 (2023). https://doi.org/10.1007/s12652-023-04647-0\n",
        "#Some parts of the code is modified based on: https://cseweb.ucsd.edu/~jmcauley/pml/code/chap4.html"
      ]
    },
    {
      "cell_type": "code",
      "source": [
        "from collections import defaultdict\n",
        "from csv import DictReader\n",
        "import math\n",
        "import time\n",
        "import numpy\n",
        "import matplotlib.pyplot as plt"
      ],
      "metadata": {
        "id": "Jk9UByFP7TIo"
      },
      "execution_count": null,
      "outputs": []
    },
    {
      "cell_type": "code",
      "source": [
        "from google.colab import drive\n",
        "drive.mount('/content/drive')"
      ],
      "metadata": {
        "colab": {
          "base_uri": "https://localhost:8080/"
        },
        "id": "A8TgPYbz82IQ",
        "outputId": "9ff89f56-fba6-4c5c-ce54-1114dbd0915d"
      },
      "execution_count": null,
      "outputs": [
        {
          "output_type": "stream",
          "name": "stdout",
          "text": [
            "Drive already mounted at /content/drive; to attempt to forcibly remount, call drive.mount(\"/content/drive\", force_remount=True).\n"
          ]
        }
      ]
    },
    {
      "cell_type": "code",
      "source": [
        "#read interactions_train.csv from Google Drive\n",
        "with open(\"drive/MyDrive/interactions_train.csv\", 'r') as f:\n",
        "    dict_reader = DictReader(f)\n",
        "    data = list(dict_reader)\n",
        "\n",
        "#change the data type for “rating” from string to float\n",
        "for d in data:\n",
        "  d['rating']=float(d['rating'])"
      ],
      "metadata": {
        "id": "sW1ySq40CyRa"
      },
      "execution_count": null,
      "outputs": []
    },
    {
      "cell_type": "code",
      "source": [
        "#randomly split the dataset into 90% for training and 10% for testing\n",
        "from sklearn.model_selection import train_test_split\n",
        "train, test= train_test_split(data, test_size=0.1, random_state=42)"
      ],
      "metadata": {
        "id": "ALm3pqeDGAIE"
      },
      "execution_count": null,
      "outputs": []
    },
    {
      "cell_type": "code",
      "source": [
        "train[0]"
      ],
      "metadata": {
        "colab": {
          "base_uri": "https://localhost:8080/"
        },
        "id": "NJj89GDCR1sy",
        "outputId": "e9f7e8a7-3230-46c1-ed18-e97f438bbc82"
      },
      "execution_count": null,
      "outputs": [
        {
          "output_type": "execute_result",
          "data": {
            "text/plain": [
              "{'user_id': '398216',\n",
              " 'recipe_id': '146435',\n",
              " 'date': '2009-04-13',\n",
              " 'rating': 0.0,\n",
              " 'u': '5824',\n",
              " 'i': '29520'}"
            ]
          },
          "metadata": {},
          "execution_count": 6
        }
      ]
    },
    {
      "cell_type": "code",
      "source": [
        "usersPerItem = defaultdict(set) # Maps an item to the users who rated it\n",
        "itemsPerUser = defaultdict(set) # Maps a user to the items that they rated\n",
        "reviewsPerItem = defaultdict(list) # Maps an item to its reviews\n",
        "ratingDict = {} # To retrieve a rating for a specific user/item pair\n",
        "\n",
        "for d in train:\n",
        "    user,item = d['user_id'], d['recipe_id']\n",
        "    usersPerItem[item].add(user)\n",
        "    itemsPerUser[user].add(item)\n",
        "\n",
        "    reviewsPerItem[item].append(d)\n",
        "\n",
        "    ratingDict[(user,item)] = d['rating']\n"
      ],
      "metadata": {
        "id": "Pu6_hiRB9ae8"
      },
      "execution_count": null,
      "outputs": []
    },
    {
      "cell_type": "code",
      "source": [
        "userAverages = {}\n",
        "ratingMean = []\n",
        "\n",
        "for u in itemsPerUser:\n",
        "    rs = [ratingDict[(u,i)] for i in itemsPerUser[u]]\n",
        "    userAverages[u] = sum(rs) / len(rs)\n",
        "\n",
        "for d in train:\n",
        "    ratingMean.append(d['rating'])\n",
        "\n",
        "ratingMean = sum(ratingMean) / len(ratingMean)"
      ],
      "metadata": {
        "id": "H-MOZHzCUCV2"
      },
      "execution_count": null,
      "outputs": []
    },
    {
      "cell_type": "code",
      "source": [
        "def MSE(predictions, labels):\n",
        "    differences = [(x-y)**2 for x,y in zip(predictions,labels)]\n",
        "    return sum(differences) / len(differences)"
      ],
      "metadata": {
        "id": "KQna33hcNnow"
      },
      "execution_count": null,
      "outputs": []
    },
    {
      "cell_type": "code",
      "source": [
        "#k-NN\n",
        "k=100"
      ],
      "metadata": {
        "id": "tmFjM53gOpUJ"
      },
      "execution_count": null,
      "outputs": []
    },
    {
      "cell_type": "code",
      "source": [
        "def Jaccard(s1, s2):\n",
        "    numer = len(s1.intersection(s2))\n",
        "    denom = len(s1.union(s2))\n",
        "    if denom == 0:\n",
        "        return 0\n",
        "    return numer / denom"
      ],
      "metadata": {
        "id": "PkWJj0wfNbHq"
      },
      "execution_count": null,
      "outputs": []
    },
    {
      "cell_type": "code",
      "source": [
        "def predictRating_Jaccard(user,item):\n",
        "    ratings = []\n",
        "    similarities = []\n",
        "    k_NN=[]\n",
        "    for d in reviewsPerItem[item]:\n",
        "        u2 = d['user_id']\n",
        "        if u2 ==user: continue\n",
        "        ratings.append(d['rating'] - userAverages[u2])\n",
        "        similarity=Jaccard(itemsPerUser[user],itemsPerUser[u2])\n",
        "        similarities.append(similarity)\n",
        "        k_NN.append((d['rating'] - userAverages[u2], similarity))\n",
        "    if (sum(similarities) > 0):\n",
        "        k_NN.sort(reverse=True, key=lambda a: a[1])\n",
        "        weightedRatings = [(x*y) for x,y in k_NN[:k]]\n",
        "        return userAverages[user] + sum(weightedRatings) / sum(similarities)\n",
        "    elif (userAverages.get(user)!=None):\n",
        "        return userAverages[user]\n",
        "    else:\n",
        "        return ratingMean"
      ],
      "metadata": {
        "id": "gaz_copNUS0z"
      },
      "execution_count": null,
      "outputs": []
    },
    {
      "cell_type": "code",
      "source": [
        "labels = [d['rating'] for d in test]\n",
        "begin=time.time()\n",
        "Jaccard_predictions=[predictRating_Jaccard(d['user_id'], d['recipe_id']) for d in test]\n",
        "end=time.time()\n",
        "Jaccard_time= numpy.round(end - begin, 3)\n",
        "Jaccard_MSE=MSE(Jaccard_predictions, labels)"
      ],
      "metadata": {
        "id": "fU6Ti9-oUWZv"
      },
      "execution_count": null,
      "outputs": []
    },
    {
      "cell_type": "code",
      "source": [
        "def RJAC_U(u1, u1_items, u2, u2_items):\n",
        "    intersection=u1_items.intersection(u2_items)\n",
        "    count=0\n",
        "    for i in intersection:\n",
        "      if ratingDict[u1, i]==ratingDict[u2, i]:\n",
        "        count+=1\n",
        "    numer = count\n",
        "    denom = len(u1_items.union(u2_items))\n",
        "    if denom == 0:\n",
        "        return 0\n",
        "    return numer / denom"
      ],
      "metadata": {
        "id": "CZvgHl2FIqiY"
      },
      "execution_count": null,
      "outputs": []
    },
    {
      "cell_type": "code",
      "source": [
        "def predictRating_RJAC_U(user,item):\n",
        "    ratings = []\n",
        "    similarities = []\n",
        "    k_NN=[]\n",
        "    for d in reviewsPerItem[item]:\n",
        "        u2 = d['user_id']\n",
        "        if u2 == user: continue\n",
        "        ratings.append(d['rating'] - userAverages[u2])\n",
        "        similarity=RJAC_U(user, itemsPerUser[user], u2, itemsPerUser[u2])\n",
        "        similarities.append(similarity)\n",
        "        k_NN.append((d['rating'] - userAverages[u2], similarity))\n",
        "    if (sum(similarities) > 0):\n",
        "        k_NN.sort(reverse=True, key=lambda a: a[1])\n",
        "        weightedRatings = [(x*y) for x,y in k_NN[:k]]\n",
        "        return userAverages[user] + sum(weightedRatings) / sum(similarities)\n",
        "    elif (userAverages.get(user)!=None):\n",
        "        return userAverages[user]\n",
        "    else:\n",
        "        return ratingMean"
      ],
      "metadata": {
        "id": "LlC9JtWmQ4lQ"
      },
      "execution_count": null,
      "outputs": []
    },
    {
      "cell_type": "code",
      "source": [
        "labels = [d['rating'] for d in test]\n",
        "begin=time.time()\n",
        "RJAC_U_predictions=[predictRating_RJAC_U(d['user_id'], d['recipe_id']) for d in test]\n",
        "end=time.time()\n",
        "RJAC_U_time= numpy.round(end - begin, 3)\n",
        "RJAC_U_MSE=MSE(RJAC_U_predictions, labels)"
      ],
      "metadata": {
        "id": "tjv4p4xFQ-vd"
      },
      "execution_count": null,
      "outputs": []
    },
    {
      "cell_type": "code",
      "source": [
        "def RJAC_D(u1, u1_items, u2, u2_items, theta):\n",
        "    intersection=u1_items.intersection(u2_items)\n",
        "    count=0\n",
        "    for i in intersection:\n",
        "      if abs(ratingDict[u1, i]-ratingDict[u2, i])<=theta:\n",
        "        count+=1\n",
        "    numer = count\n",
        "    denom = len(u1_items.union(u2_items))\n",
        "    if denom == 0:\n",
        "        return 0\n",
        "    return numer / denom"
      ],
      "metadata": {
        "id": "ljCEjyGXUU2w"
      },
      "execution_count": null,
      "outputs": []
    },
    {
      "cell_type": "code",
      "source": [
        "def predictRating_RJAC_D(user, item, theta):\n",
        "    ratings = []\n",
        "    similarities = []\n",
        "    k_NN=[]\n",
        "    for d in reviewsPerItem[item]:\n",
        "        u2 = d['user_id']\n",
        "        if u2 == user: continue\n",
        "        ratings.append(d['rating'] - userAverages[u2])\n",
        "        similarity=RJAC_D(user, itemsPerUser[user], u2, itemsPerUser[u2], theta)\n",
        "        similarities.append(similarity)\n",
        "        k_NN.append((d['rating'] - userAverages[u2], similarity))\n",
        "    if (sum(similarities) > 0):\n",
        "        k_NN.sort(reverse=True, key=lambda a: a[1])\n",
        "        weightedRatings = [(x*y) for x,y in k_NN[:k]]\n",
        "        return userAverages[user] + sum(weightedRatings) / sum(similarities)\n",
        "    elif (userAverages.get(user)!=None):\n",
        "        return userAverages[user]\n",
        "    else:\n",
        "        return ratingMean"
      ],
      "metadata": {
        "id": "XSPcVi1hRcGY"
      },
      "execution_count": null,
      "outputs": []
    },
    {
      "cell_type": "code",
      "source": [
        "labels = [d['rating'] for d in test]\n",
        "theta=1\n",
        "begin=time.time()\n",
        "RJAC_D_predictions=[predictRating_RJAC_D(d['user_id'], d['recipe_id'], theta) for d in test]\n",
        "end=time.time()\n",
        "RJAC_D_time= numpy.round(end - begin, 3)\n",
        "RJAC_D_MSE=MSE(RJAC_D_predictions, labels)"
      ],
      "metadata": {
        "id": "bgfPpimtRb89"
      },
      "execution_count": null,
      "outputs": []
    },
    {
      "cell_type": "code",
      "source": [
        "def RJAC_DUB(u1, u1_items, u2, u2_items, theta):\n",
        "    intersection=u1_items.intersection(u2_items)\n",
        "    count=0\n",
        "    for i in intersection:\n",
        "      if abs((ratingDict[u1, i]-userAverages[u1])-(ratingDict[u2, i]-userAverages[u2]))<=theta:\n",
        "          count+=1\n",
        "    numer = count\n",
        "    denom = len(u1_items.union(u2_items))\n",
        "    if denom == 0:\n",
        "        return 0\n",
        "    return numer / denom"
      ],
      "metadata": {
        "id": "qc5WsFo2ZVzH"
      },
      "execution_count": null,
      "outputs": []
    },
    {
      "cell_type": "code",
      "source": [
        "def predictRating_RJAC_DUB(user, item, theta):\n",
        "    ratings = []\n",
        "    similarities = []\n",
        "    k_NN=[]\n",
        "    for d in reviewsPerItem[item]:\n",
        "        u2 = d['user_id']\n",
        "        if u2 == user: continue\n",
        "        ratings.append(d['rating'] - userAverages[u2])\n",
        "        similarity=RJAC_DUB(user, itemsPerUser[user], u2, itemsPerUser[u2], theta)\n",
        "        similarities.append(similarity)\n",
        "        k_NN.append((d['rating'] - userAverages[u2], similarity))\n",
        "    if (sum(similarities) > 0):\n",
        "        k_NN.sort(reverse=True, key=lambda a: a[1])\n",
        "        weightedRatings = [(x*y) for x,y in k_NN[:k]]\n",
        "        return userAverages[user] + sum(weightedRatings) / sum(similarities)\n",
        "    elif (userAverages.get(user)!=None):\n",
        "        return userAverages[user]\n",
        "    else:\n",
        "        return ratingMean"
      ],
      "metadata": {
        "id": "n2vN67yMZVtE"
      },
      "execution_count": null,
      "outputs": []
    },
    {
      "cell_type": "code",
      "source": [
        "labels = [d['rating'] for d in test]\n",
        "theta=1\n",
        "begin=time.time()\n",
        "RJAC_DUB_predictions=[predictRating_RJAC_DUB(d['user_id'], d['recipe_id'], theta) for d in test]\n",
        "end=time.time()\n",
        "RJAC_DUB_time= numpy.round(end - begin, 3)\n",
        "RJAC_DUB_MSE=MSE(RJAC_DUB_predictions, labels)"
      ],
      "metadata": {
        "id": "lioA_bZGZVl2"
      },
      "execution_count": null,
      "outputs": []
    },
    {
      "cell_type": "code",
      "source": [
        "def WRJAC_DUB(u1, u1_items, u2, u2_items, theta1, theta2, w1, w2):\n",
        "    intersection=u1_items.intersection(u2_items)\n",
        "    count1=0\n",
        "    for i in intersection:\n",
        "      if abs((ratingDict[u1, i]-userAverages[u1])-(ratingDict[u2, i]-userAverages[u2]))<=theta1:\n",
        "          count1+=1\n",
        "    count2=0\n",
        "    for i in intersection:\n",
        "      if abs((ratingDict[u1, i]-userAverages[u1])-(ratingDict[u2, i]-userAverages[u2]))<=theta2:\n",
        "          count2+=1\n",
        "    numer = count1*w1+count2*w2\n",
        "    denom = len(u1_items.union(u2_items))\n",
        "    if denom == 0:\n",
        "        return 0\n",
        "    return numer / denom"
      ],
      "metadata": {
        "id": "QE9gAYxYbemo"
      },
      "execution_count": null,
      "outputs": []
    },
    {
      "cell_type": "code",
      "source": [
        "def predictRating_WRJAC_DUB(user, item, theta1, theta2, w1, w2):\n",
        "    ratings = []\n",
        "    similarities = []\n",
        "    k_NN=[]\n",
        "    for d in reviewsPerItem[item]:\n",
        "        u2 = d['user_id']\n",
        "        if u2 == user: continue\n",
        "        ratings.append(d['rating'] - userAverages[u2])\n",
        "        similarity=WRJAC_DUB(user, itemsPerUser[user], u2, itemsPerUser[u2], theta1, theta2, w1, w2)\n",
        "        similarities.append(similarity)\n",
        "        k_NN.append((d['rating'] - userAverages[u2], similarity))\n",
        "    if (sum(similarities) > 0):\n",
        "        k_NN.sort(reverse=True, key=lambda a: a[1])\n",
        "        weightedRatings = [(x*y) for x,y in k_NN[:k]]\n",
        "        return userAverages[user] + sum(weightedRatings) / sum(similarities)\n",
        "    elif (userAverages.get(user)!=None):\n",
        "        return userAverages[user]\n",
        "    else:\n",
        "        return ratingMean"
      ],
      "metadata": {
        "id": "pTsT4y5SciuR"
      },
      "execution_count": null,
      "outputs": []
    },
    {
      "cell_type": "code",
      "source": [
        "labels = [d['rating'] for d in test]\n",
        "theta1=0.5\n",
        "theta2=1\n",
        "w1=1\n",
        "w2=0.5\n",
        "begin=time.time()\n",
        "WRJAC_DUB_predictions=[predictRating_WRJAC_DUB(d['user_id'], d['recipe_id'], theta1, theta2, w1, w2) for d in test]\n",
        "end=time.time()\n",
        "WRJAC_DUB_time= numpy.round(end - begin, 3)\n",
        "WRJAC_DUB_MSE=MSE(WRJAC_DUB_predictions, labels)"
      ],
      "metadata": {
        "id": "puBPZNgBbeaI"
      },
      "execution_count": null,
      "outputs": []
    },
    {
      "cell_type": "code",
      "source": [
        "MSE_list=[Jaccard_MSE, RJAC_U_MSE, RJAC_D_MSE, RJAC_DUB_MSE, WRJAC_DUB_MSE]\n",
        "Method_Name=[\"Jaccard\", \"RJAC_U\", \"RJAC_D\", \"RJAC_DUB\", \"WRJAC_DUB\"]\n",
        "plt.bar(Method_Name, MSE_list, width = 0.4)\n",
        "plt.title(\"MSE vs Method Name\")\n",
        "plt.xlabel('Method Name')\n",
        "plt.ylabel('Mean Square Error')\n",
        "for i in range(len(Method_Name)):\n",
        "    plt.text(i, MSE_list[i], numpy.round(MSE_list[i], 3), ha = 'center')\n",
        "plt.show()"
      ],
      "metadata": {
        "colab": {
          "base_uri": "https://localhost:8080/",
          "height": 472
        },
        "id": "zjmHGaS8D4kC",
        "outputId": "cc60d854-26ce-423a-88cc-f49e577dbb45"
      },
      "execution_count": null,
      "outputs": [
        {
          "output_type": "display_data",
          "data": {
            "text/plain": [
              "<Figure size 640x480 with 1 Axes>"
            ],
            "image/png": "[encoded data removed]"
          },
          "metadata": {}
        }
      ]
    },
    {
      "cell_type": "code",
      "source": [
        "time_list=[Jaccard_time, RJAC_U_time, RJAC_D_time, RJAC_DUB_time, WRJAC_DUB_time]\n",
        "Method_Name=[\"Jaccard\", \"RJAC_U\", \"RJAC_D\", \"RJAC_DUB\", \"WRJAC_DUB\"]\n",
        "plt.bar(Method_Name, time_list, width = 0.4)\n",
        "plt.title(\"Run Time vs Method Name\")\n",
        "plt.xlabel('Method Name')\n",
        "plt.ylabel('Run Time (s)')\n",
        "for i in range(len(Method_Name)):\n",
        "    plt.text(i, time_list[i], numpy.round(time_list[i], 3), ha = 'center')\n",
        "plt.show()"
      ],
      "metadata": {
        "colab": {
          "base_uri": "https://localhost:8080/",
          "height": 472
        },
        "id": "0oP79aNOKNcQ",
        "outputId": "868801b3-c28d-46bc-fa5e-418707893447"
      },
      "execution_count": null,
      "outputs": [
        {
          "output_type": "display_data",
          "data": {
            "text/plain": [
              "<Figure size 640x480 with 1 Axes>"
            ],
            "image/png": "[encoded data removed]"
          },
          "metadata": {}
        }
      ]
    }
  ]
}