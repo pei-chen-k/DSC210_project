{
 "cells": [
  {
   "cell_type": "code",
   "execution_count": 5,
   "metadata": {},
   "outputs": [],
   "source": [
    "import pandas as pd\n",
    "import pickle\n",
    "\n",
    "data = pd.read_csv(\"./Dataset/interactions_train.csv\")\n",
    "data.to_pickle(\"./Dataset/interactions_train.pkl\")"
   ]
  },
  {
   "cell_type": "code",
   "execution_count": 6,
   "metadata": {},
   "outputs": [],
   "source": [
    "data = pd.read_csv(\"./Dataset/interactions_test.csv\")\n",
    "data.to_pickle(\"./Dataset/interactions_test.pkl\")"
   ]
  },
  {
   "cell_type": "code",
   "execution_count": 3,
   "metadata": {},
   "outputs": [],
   "source": [
    "\"\"\"import pandas as pd\n",
    "import pickle\n",
    "\n",
    "data = pd.read_csv(\"./Dataset/interactions_test.csv\")\n",
    "\n",
    "pkl_file = \"./Dataset/interactions_test.pkl\"\n",
    "\n",
    "with open(pkl_file, \"wb\") as f:\n",
    "    pickle.dump(data, f)\"\"\""
   ]
  },
  {
   "cell_type": "code",
   "execution_count": 7,
   "metadata": {},
   "outputs": [],
   "source": [
    "data = pd.read_csv(\"./Dataset/interactions_validation.csv\")\n",
    "data.to_pickle(\"./Dataset/interactions_validation.pkl\")"
   ]
  },
  {
   "cell_type": "code",
   "execution_count": 8,
   "metadata": {},
   "outputs": [],
   "source": [
    "data = pd.read_csv(\"./Dataset/PP_users.csv\")\n",
    "data.to_pickle(\"./Dataset/PP_users.pkl\")"
   ]
  },
  {
   "cell_type": "code",
   "execution_count": 9,
   "metadata": {},
   "outputs": [],
   "source": [
    "data = pd.read_csv(\"./Dataset/PP_recipes.csv\")\n",
    "data.to_pickle(\"./Dataset/PP_recipes.pkl\")"
   ]
  },
  {
   "cell_type": "code",
   "execution_count": 10,
   "metadata": {},
   "outputs": [],
   "source": [
    "data = pd.read_csv(\"./Dataset/RAW_recipes.csv\")\n",
    "data.to_pickle(\"./Dataset/RAW_recipes.pkl\")"
   ]
  },
  {
   "cell_type": "code",
   "execution_count": 8,
   "metadata": {},
   "outputs": [],
   "source": [
    "data = pd.read_csv(\"./Dataset/RAW_interactions.csv\")\n",
    "data.to_pickle(\"./Dataset/RAW_interactions.pkl\")"
   ]
  }
 ],
 "metadata": {
  "kernelspec": {
   "display_name": "ds210",
   "language": "python",
   "name": "python3"
  },
  "language_info": {
   "codemirror_mode": {
    "name": "ipython",
    "version": 3
   },
   "file_extension": ".py",
   "mimetype": "text/x-python",
   "name": "python",
   "nbconvert_exporter": "python",
   "pygments_lexer": "ipython3",
   "version": "3.8.18"
  },
  "orig_nbformat": 4
 },
 "nbformat": 4,
 "nbformat_minor": 2
}
